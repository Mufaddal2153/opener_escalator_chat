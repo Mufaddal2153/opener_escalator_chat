{
 "cells": [
  {
   "cell_type": "code",
   "execution_count": 1,
   "metadata": {},
   "outputs": [],
   "source": [
    "import pandas as pd, os\n",
    "from langchain_openai import ChatOpenAI\n",
    "from langchain.prompts import PromptTemplate"
   ]
  },
  {
   "cell_type": "code",
   "execution_count": 10,
   "metadata": {},
   "outputs": [],
   "source": [
    "data = pd.read_csv(\"leads.csv\")"
   ]
  },
  {
   "cell_type": "code",
   "execution_count": 38,
   "metadata": {},
   "outputs": [
    {
     "name": "stdout",
     "output_type": "stream",
     "text": [
      "0\n",
      "1\n",
      "2\n",
      "3\n"
     ]
    }
   ],
   "source": [
    "def read_excel_dynamic(filepath):\n",
    "\tdf = pd.read_excel(filepath)\n",
    " \n",
    "\tnon_empty_row = next((i for i, row in df.iterrows() if not row.isnull().all()), None)\n",
    "\tif non_empty_row is not None:\n",
    "\t\tdf.columns = df.iloc[non_empty_row]\n",
    "\t\tdf = df.iloc[non_empty_row+1:]\n",
    "\t\tnon_empty_col = df.notna().any(axis=0)\n",
    "\t\tdf = df.loc[:, non_empty_col]\n",
    "\telse:\n",
    "\t\tprint(\"Excel file seems to be empty!\")\n",
    "\t\tdf = pd.DataFrame()\n",
    "\treturn df\n",
    "\n",
    "filepath = 'leads.xlsx'\n",
    "df = read_excel_dynamic(filepath)\n",
    "df.reset_index(inplace=True)\n",
    "# df.head(n=15)\n",
    "for i, row in df.iterrows():\n",
    "    print(i)\n"
   ]
  },
  {
   "cell_type": "code",
   "execution_count": null,
   "metadata": {},
   "outputs": [],
   "source": [
    "['Goal: Craft an email to send to a potential lead. This email should be concise, informative, and engaging. The tone of the email should be human like. It should inquire more details about the scope and budget of project they have in mind. The email should have a brief subject that\\'s less than 30 characters. The email body shouldnt \n",
    "be longer than 3 paragraphs. The email should not use any flowery or flattery language.\\n\\nUse the below provided information to craft the email.\\nInformation about the lead:\\n- Name: Yaqub Qamar Ad Din Dibiazah\\n- Job Title: Director Engineering\\n- Organization: Imaarat Tech\\n- Company Size: 50-100\\n- Department: Engineering\\n- Project Title: CentDoc\\n- Looking for: In the past, the company encountered an issue where their product manuals became out of sync with the software documentation. As the development teams continued to add new features and refine existing ones, they also updated the documentation. However, this required manual synchronization between the \n",
    "product manuals and the software documentation.\\n\\nTo address this problem, the company has envisioned a solution called \"CentDoc\". This tool will automatically detect any inconsistencies between the product manuals and software documentation. It will then remove outdated information from the manuals using the software documentation, \n",
    "but only after receiving explicit approval from the user.', \"Goal: Craft an email to send to a potential lead. This email should be concise, informative, and engaging. The tone of the email should be human like. It should inquire more details about the scope and budget of project they have in mind. The email should have a brief subject that's less than 30 characters. The email body shouldnt be longer than 3 paragraphs. The email should not use \n",
    "any flowery or flattery language.\\n\\nUse the below provided information to craft the email.\\nInformation about the lead:\\n- Name: Joe Steve\\n- Job Title: CTO\\n- Organization: Anz LLC\\n- Company Size: 25-50\\n- Department: Content\\n- Project Title: ConSys\\n- Looking for: Anz LLC is a company that creates SEO-enabled internet content for small businesses. They have a team of 20 members who write content for various products offered by different businesses. The team now plans to utilize generative AI to expedite the writing process, which will facilitate scaling for them.\", \"Goal: Craft an email to send to a potential lead. This email should be concise, informative, and engaging. The tone of the email should be human like. It should inquire more details about the scope and budget of project they have in mind. The email should have a brief subject that's less than 30 characters. The email body shouldnt be longer than 3 paragraphs. The email should not use any flowery or flattery language.\\n\\nUse the below provided information to craft the email.\\nInformation about the lead:\\n- Name: Sophia Rodriguez\\n- Job Title: Lead Developer\\n- Organization: TechSprint Innovations\\n- Company Size: 250-400\\n- Department: Engineering\\n- Project Title: AutoCode\\n- Looking for: TechSprint Innovations is focused on automating the coding process to enhance development speed and accuracy. As the Lead Developer, Sophia Rodriguez spearheads the implementation \n",
    "of AutoCode, an innovative tool designed to automatically generate code snippets based on predefined patterns. This aims to streamline the coding workflow and boost overall development efficiency.\", \"Goal: Craft an email to \n",
    "send to a potential lead. This email should be concise, informative, and engaging. The tone of the email should \n",
    "be human like. It should inquire more details about the scope and budget of project they have in mind. The email should have a brief subject that's less than 30 characters. The email body shouldnt be longer than 3 paragraphs. The email should not use any flowery or flattery language.\\n\\nUse the below provided information to craft the \n",
    "email.\\nInformation about the lead:\\n- Name: Ayesha Raza\\n- Job Title: Marketing Manager\\n- Organization: LuxeDrive Rentals\\n- Company Size: 7\\n- Department: - \\n- Project Title: CarElite\\n- Looking for: LuxeDrive Rentals specializes in providing luxury car rental services, offering an exclusive fleet of high-end vehicles. Isabella Thompson, the Marketing Manager, is spearheading the initiative to establish a strong online presence. The company envisions a complete mobile solution, CarElite, tailored to showcase their premium car collection, facilitate seamless bookings, and enhance the overall customer experience.\"]"
   ]
  },
  {
   "cell_type": "code",
   "execution_count": 11,
   "metadata": {},
   "outputs": [],
   "source": [
    "prompt = \"\"\"Goal: Craft an email to send to a potential lead. This email should be concise, informative, and engaging. The tone of the email should be human like. It should inquire more details about the scope and budget of project they have in mind. The email should have a brief subject that\\'s less than 30 characters. Use HR and hr@antematter.so in Regards section of the email. The email body shouldnt \n",
    "be longer than 3 paragraphs. The email should not use any flowery or flattery language.\\n\\nUse the below provided information to craft the email.\\nInformation about the lead:\\n- Name: Yaqub Qamar Ad Din Dibiazah\\n- Job Title: Director Engineering\\n- Organization: Imaarat Tech\\n- Company Size: 50-100\\n- Department: Engineering\\n- Project Title: CentDoc\\n- Looking for: In the past, the company encountered an issue where their product manuals became out of sync with the software documentation. As the development teams continued to add new features and refine existing ones, they also updated the documentation. However, this required manual synchronization between the \n",
    "product manuals and the software documentation.\\n\\nTo address this problem, the company has envisioned a solution called \"CentDoc\". This tool will automatically detect any inconsistencies between the product manuals and software documentation. It will then remove outdated information from the manuals using the software documentation, \n",
    "but only after receiving explicit approval from the user.\"\"\""
   ]
  },
  {
   "cell_type": "code",
   "execution_count": 9,
   "metadata": {},
   "outputs": [],
   "source": [
    "llm = ChatOpenAI(temperature=0.1, model_name='gpt-3.5-turbo', max_tokens=300)"
   ]
  },
  {
   "cell_type": "code",
   "execution_count": 3,
   "metadata": {},
   "outputs": [
    {
     "ename": "NameError",
     "evalue": "name 'prompt' is not defined",
     "output_type": "error",
     "traceback": [
      "\u001b[1;31m---------------------------------------------------------------------------\u001b[0m",
      "\u001b[1;31mNameError\u001b[0m                                 Traceback (most recent call last)",
      "Cell \u001b[1;32mIn[3], line 2\u001b[0m\n\u001b[0;32m      1\u001b[0m messages \u001b[38;5;241m=\u001b[39m [\n\u001b[1;32m----> 2\u001b[0m     (\u001b[38;5;124m\"\u001b[39m\u001b[38;5;124msystem\u001b[39m\u001b[38;5;124m\"\u001b[39m, \u001b[43mprompt\u001b[49m)\n\u001b[0;32m      3\u001b[0m ]\n\u001b[0;32m      5\u001b[0m ret \u001b[38;5;241m=\u001b[39m llm\u001b[38;5;241m.\u001b[39minvoke(prompt)\n",
      "\u001b[1;31mNameError\u001b[0m: name 'prompt' is not defined"
     ]
    }
   ],
   "source": [
    "messages = [\n",
    "    (\"system\", prompt)\n",
    "]\n",
    "\n",
    "ret = llm.invoke(prompt)"
   ]
  },
  {
   "cell_type": "markdown",
   "metadata": {},
   "source": [
    "## Escalator Agent"
   ]
  },
  {
   "cell_type": "code",
   "execution_count": 8,
   "metadata": {},
   "outputs": [],
   "source": [
    "prompt = \"\"\"\n",
    "Context: The lead was sent an opening email on their given information which is in `Looking For` section.\n",
    "Based on which the lead has responded to the email. The lead response to the email is in Lead Response section.\n",
    "\n",
    "Goal: If the lead response to the email has asked for more information or has mentioned the scope and budget,\n",
    "then reply only \"Escalated\". Else if in the lead response to the email, scope or budget is not \n",
    "mentioned, then send an email to th00e mentioned mail in the lead response, if not mentioned then to the lead \n",
    "themselves. The email should be concise, informative, and engaging. The tone of the email should be human like. The email should inquire more details about the scope and budget of project they have in mind. The email should have a brief subject that's less than 30 characters. Use HR and hr@antermatter.so in regards section of the email. The email body shouldnt be longer than 3 paragraphs. The email should not use any flowery or flattery language. Use the below provided information to craft the email or response.\n",
    "\n",
    "Information about the lead:\n",
    "- Name: Yaqub Qamar Ad Din Dibiazah\n",
    "- Job Title: Director Engineering\n",
    "- Organization: Imaarat Tech\n",
    "- Company Size: 50-100\n",
    "- Department: Engineering\n",
    "- Project Title: CentDoc\n",
    "- Looking for: In the past, the company encountered an issue where their product manuals became out of sync with the software documentation. As the development teams continued to add new features and refine existing ones, they also updated the documentation. However, this required manual synchronization between the product manuals and the software documentation.\n",
    "\n",
    "To address this problem, the company has envisioned a solution called \"\"CentDoc\"\". This tool will automatically detect any inconsistencies between the product manuals and software documentation. It will then remove outdated information from the manuals using the software documentation, but only after receiving explicit approval from the user.\n",
    "- Lead Response: Thanks for reaching out. Our procurement team is actively looking for potential consultants. Can you please get in touch with them at procure@centdoc.io\n",
    "\"\"\""
   ]
  },
  {
   "cell_type": "code",
   "execution_count": null,
   "metadata": {},
   "outputs": [],
   "source": [
    "'''\n",
    "Goal: Refine the understanding of the lead\\'s project needs and determine the next steps.\n",
    "Based on Lead Response from `Lead Information and Response To Opener Email` section, the following scenarios can occur:\n",
    "1. if they are explicitly requesting for more information or if Budget or Scope are Provided:\n",
    "Action: Escalate the lead to the admin.\n",
    "Response: \"Escalated\"\n",
    "2. Have not explicitly asked for more information or budget or scope is missing:\n",
    "Action: Prompt the user to provide the missing details. Note: Write the response in an email format and use HR and hr@antematter.so in the Regards section of the email.\n",
    "Budget Missing: \"Thanks for sharing the project scope, [Name]! To get a better idea of how we can best assist you, could you share your estimated budget for this project?\"\n",
    "Scope Missing: \"Thanks for letting me know your budget, [Name]! To understand your needs more clearly, could you briefly describe the project scope or what you\\'re hoping to achieve?\"\n",
    "'''"
   ]
  },
  {
   "cell_type": "code",
   "execution_count": 30,
   "metadata": {},
   "outputs": [],
   "source": [
    "prompt = \"\"\"\n",
    "Goal: Refine the understanding of the lead's project needs and determine the next steps.\n",
    "Based on Lead Response from `Lead Information and Response To Opener Email`, the following scenarios can occur:\n",
    "1. Budget and Scope Provided or if they are requesting for more information:\n",
    "Action: Escalate the lead to the admin for further qualification and potential sales engagement.\n",
    "Response: \"Escalated\"\n",
    "2. Missing Information (budget or scope):\n",
    "Action: Prompt the user to provide the missing details. Note: Write the response in an email format and use HR and hr@antematter.so in the Regards section of the email.\n",
    "Budget Missing: \"Thanks for sharing the project scope, [Name]! To get a better idea of how we can best assist you, could you share your estimated budget for this project?\"\n",
    "Scope Missing: \"Thanks for letting me know your budget, [Name]! To understand your needs more clearly, could you briefly describe the project scope or what you're hoping to achieve?\"\n",
    "\n",
    "Lead Information and Response To Opener Email:\n",
    "- Name: Yaqub Qamar Ad Din Dibiazah\n",
    "- Job Title: Director Engineering\n",
    "- Organization: Imaarat Tech\n",
    "- Company Size: 50-100\n",
    "- Department: Engineering\n",
    "- Project Title: CentDoc\n",
    "- Looking for: \"In the past, the company encountered an issue where their product manuals became out of sync with the software documentation. As the development teams continued to add new features and refine existing ones, they also updated the documentation. However, this required manual synchronization between the product manuals and the software documentation.\n",
    "\n",
    "To address this problem, the company has envisioned a solution called \"\"CentDoc\"\". This tool will automatically detect any inconsistencies between the product manuals and software documentation. It will then remove outdated information from the manuals using the software documentation, but only after receiving explicit approval from the user.\"\n",
    "- Lead Response: Thanks for reaching out. Our procurement team is actively looking for potential consultants. Can you please get in touch with them at procure@centdoc.io \n",
    "\"\"\""
   ]
  },
  {
   "cell_type": "code",
   "execution_count": 22,
   "metadata": {},
   "outputs": [],
   "source": [
    "test_prompt = \"\"\"\n",
    "Goal: Refine the understanding of the lead\\'s project needs and determine the next steps.\\nBased on Lead Response from `Lead Information and Response To Opener Email` section, the following scenarios can occur:\\n1. Budget and Scope Provided or if they are requesting for more information:\\nAction: Escalate the lead to the admin.\\nResponse: \"Escalated\"\\n2. Missing Information (budget or scope):\\nAction: Prompt the user to provide the missing details. Note: Write the response in an email format and use HR and hr@antematter.so in the Regards section of the email.\\nBudget Missing: \"Thanks for sharing the project scope, [Name]! To get a better idea of how we can best assist you, could you share your estimated budget for this project?\"\\nScope Missing: \"Thanks for letting me know your budget, [Name]! To understand your needs more clearly, could you briefly describe the project scope or what you\\'re hoping to achieve?\"\\n\\nLead Information and Response To Opener Email:\\nInformation about the lead:\\n- Name: Ayesha Raza\\n- Job Title: Marketing Manager\\n- Organization: LuxeDrive Rentals\\n- Company Size: 7\\n- Department: - \\n- Project Title: CarElite\\n- Looking for: LuxeDrive Rentals specializes in providing luxury car rental services, offering an exclusive fleet of high-end vehicles. Isabella Thompson, the Marketing Manager, is spearheading the initiative to establish a strong online presence. The company envisions a complete mobile solution, CarElite, tailored to showcase their premium car collection, facilitate seamless bookings, and enhance the overall customer experience.\\n- Lead Response: Hi. As we\\'re starting out, our budget for this is $25k and we want a mobile app.\n",
    "\"\"\""
   ]
  },
  {
   "cell_type": "code",
   "execution_count": 60,
   "metadata": {},
   "outputs": [],
   "source": [
    "llm = ChatOpenAI(temperature=0.2, model_name='gpt-3.5-turbo', max_tokens=300)\n",
    "messages = [\n",
    "    (\"system\", test_prompt)\n",
    "]\n",
    "\n",
    "messages1 = [\n",
    "    \t(\n",
    "        \t'system', 'Goal: Refine the understanding of the lead\\'s project needs and determine the next steps.\\nBased on Lead Response from `Lead Information and Response To Opener Email` section, the following scenarios can occur:\\n1. if they are explicitly requesting for more information or if Budget or Scope are Provided:\\nAction: Escalate the lead to the admin.\\nResponse: \"Escalated\"\\n2. Have not explicitly asked for more information or budget or scope is missing:\\nAction: Prompt the user to provide the missing details. Note: Write the response in an email format and use HR and hr@antematter.so in the Regards section of the email.\\nBudget Missing: \"Thanks for sharing the project scope, [Name]! To get a better idea of how we can best assist you, could you share your estimated budget for this project?\"\\nScope Missing: \"Thanks for letting me know your budget, [Name]! To understand your needs more clearly, could you briefly describe the project scope or what you\\'re hoping to achieve?\"'\n",
    "\t\t),\n",
    "\t\t(\n",
    "\t\t\t'human', 'Lead Information and Response To Opener Email:\\n- Name: Sophia Rodriguez\\n- Job Title: Lead Developer\\n- Organization: TechSprint Innovations\\n- Company Size: 250-400\\n- Department: Engineering\\n- Project Title: AutoCode\\n- Looking for: TechSprint Innovations is focused on automating the coding process to enhance development speed and accuracy. As the Lead Developer, Sophia Rodriguez spearheads the implementation of AutoCode, an innovative tool designed to automatically generate code snippets based on predefined patterns. This aims to streamline the coding workflow and boost overall development efficiency.\\n- Lead Response: For the scope of this project, we require a solution that is similar to Github\\'s autopilot. Our budget for this commitment is $200,000,000. We would like you to send us a proposal outlining your offering, including the features you would provide. Additionally, please include a comparison with Github\\'s autopilot.'\n",
    "       \t)\n",
    "    ]\n",
    "\n",
    "ret = llm.invoke(messages1)"
   ]
  },
  {
   "cell_type": "code",
   "execution_count": 61,
   "metadata": {},
   "outputs": [
    {
     "name": "stdout",
     "output_type": "stream",
     "text": [
      "Escalated\n"
     ]
    }
   ],
   "source": [
    "print(ret.content)"
   ]
  },
  {
   "cell_type": "code",
   "execution_count": 16,
   "metadata": {},
   "outputs": [],
   "source": [
    "test_prompts = [\n",
    "    [\n",
    "    \t(\n",
    "        \t'system', 'Goal: Refine the understanding of the lead\\'s project needs and determine the next steps.\\nBased on Lead Response from `Lead Information and Response To Opener Email` section, the following scenarios can occur:\\n1. Budget and Scope Provided or if they are requesting for more information:\\nAction: Escalate the lead to the admin.\\nResponse: \"Escalated\"\\n2. Missing Information (budget or scope):\\nAction: Prompt the user to provide the missing details. Note: Write the response in an email format and use HR and hr@antematter.so in the Regards section of the email.\\nBudget Missing: \"Thanks for sharing the project scope, [Name]! To get a better idea of how we can best assist you, could you share your estimated budget for this project?\"\\nScope Missing: \"Thanks for letting me know your budget, [Name]! To understand your needs more clearly, could you briefly describe the project scope or what you\\'re hoping to achieve?\"'\n",
    "\t\t),\n",
    "\t\t(\n",
    "\t\t\t'human', 'Lead Information and Response To Opener Email:\\nInformation about the lead:\\n- Name: Yaqub Qamar Ad Din Dibiazah\\n- Job Title: Director Engineering\\n- Organization: Imaarat Tech\\n- Company Size: 50-100\\n- Department: Engineering\\n- Project Title: CentDoc\\n- Looking for: In the past, the company encountered an issue where their product manuals became out of sync with the software documentation. As the development teams continued to add new features and refine existing ones, they also updated the documentation. However, this required manual synchronization between the product manuals and the software documentation.\\n\\nTo address this problem, the company has envisioned a solution called \"CentDoc\". This tool will automatically detect any inconsistencies between the product manuals and software documentation. It will then remove outdated information from the manuals using the software documentation, but only after receiving explicit approval from the user.\\n- Lead Response: Thanks for reaching out. Our procurement team is actively looking for potential consultants. Can you please get in touch with them at procure@centdoc.io '\n",
    "       \t)\n",
    "    ], \n",
    "    [\n",
    "        (\n",
    "            'system', 'Goal: Refine the understanding of the lead\\'s project needs and determine the next steps.\\nBased on Lead Response from `Lead Information and Response To Opener Email` section, the following scenarios can occur:\\n1. Budget and Scope Provided or if they are requesting for more information:\\nAction: Escalate the lead to the admin.\\nResponse: \"Escalated\"\\n2. Missing Information (budget or scope):\\nAction: Prompt the user to provide the missing details. Note: Write the response in an email format and use HR and hr@antematter.so in the Regards section of the email.\\nBudget Missing: \"Thanks for sharing the project scope, [Name]! To get a better idea of how we can best assist you, could you share your estimated budget for this project?\"\\nScope Missing: \"Thanks for letting me know your budget, [Name]! To understand your needs more clearly, could you briefly describe the project scope or what you\\'re hoping to achieve?\"'\n",
    "        ),\n",
    "        (\n",
    "            'human', 'Lead Information and Response To Opener Email:\\nInformation about the lead:\\n- Name: Joe Steve\\n- Job Title: CTO\\n- Organization: Anz LLC\\n- Company Size: 25-50\\n- Department: Content\\n- Project Title: ConSys\\n- Looking for: Anz LLC is a company that creates SEO-enabled internet content for small businesses. They have a team of 20 members who write content for various products offered by different businesses. The team now plans to utilize generative AI to expedite the writing process, which will facilitate scaling for them.\\n- Lead Response: Thank you for contacting us. Please find the attached scope document with this email. We do not have a specific budget in mind, and we are relying on you to provide us with an estimate.'\n",
    "        )\n",
    "    ], \n",
    "    [\n",
    "        ('system', 'Goal: Refine the understanding of the lead\\'s project needs and determine the next steps.\\nBased on Lead Response from `Lead Information and Response To Opener Email` section, the following scenarios can occur:\\n1. Budget and Scope Provided or if they are requesting for more information:\\nAction: Escalate the lead to the admin.\\nResponse: \"Escalated\"\\n2. Missing Information (budget or scope):\\nAction: Prompt the user to provide the missing details. Note: Write the response in an email format and use HR and hr@antematter.so in the Regards section of the email.\\nBudget Missing: \"Thanks for sharing the project scope, [Name]! To get a better idea of how we can best assist you, could you share your estimated budget for this project?\"\\nScope Missing: \"Thanks for letting me know your budget, [Name]! To understand your needs more clearly, could you briefly describe the project scope or what you\\'re hoping to achieve?\"'),\n",
    "        ('human', 'Lead Information and Response To Opener Email:\\nInformation about the lead:\\n- Name: Sophia Rodriguez\\n- Job Title: Lead Developer\\n- Organization: TechSprint Innovations\\n- Company Size: 250-400\\n- Department: Engineering\\n- Project Title: AutoCode\\n- Looking for: TechSprint Innovations is focused on automating the coding process to enhance development speed and accuracy. As the Lead Developer, Sophia Rodriguez spearheads the implementation of AutoCode, an innovative tool designed to automatically generate code snippets based on predefined patterns. This aims to streamline the coding workflow and boost overall development efficiency.\\n- Lead Response: For the scope of this project, we require a solution that is similar to Github\\'s autopilot. Our budget for this commitment is $200,000,000. We would like you to send us a proposal outlining your offering, including the features you would provide. Additionally, please include a comparison with Github\\'s autopilot.')\n",
    "    ], \n",
    "    [\n",
    "        ('system', 'Goal: Refine the understanding of the lead\\'s project needs and determine the next steps.\\nBased on Lead Response from `Lead Information and Response To Opener Email` section, the following scenarios can occur:\\n1. Budget and Scope Provided or if they are requesting for more information:\\nAction: Escalate the lead to the admin.\\nResponse: \"Escalated\"\\n2. Missing Information (budget or scope):\\nAction: Prompt the user to provide the missing details. Note: Write the response in an email format and use HR and hr@antematter.so in the Regards section of the email.\\nBudget Missing: \"Thanks for sharing the project scope, [Name]! To get a better idea of how we can best assist you, could you share your estimated budget for this project?\"\\nScope Missing: \"Thanks for letting me know your budget, [Name]! To understand your needs more clearly, could you briefly describe the project scope or what you\\'re hoping to achieve?\"'),\n",
    "        ('human', 'Lead Information and Response To Opener Email:\\nInformation about the lead:\\n- Name: Ayesha Raza\\n- Job Title: Marketing Manager\\n- Organization: LuxeDrive Rentals\\n- Company Size: 7\\n- Department: - \\n- Project Title: CarElite\\n- Looking for: LuxeDrive Rentals specializes in providing luxury car rental services, offering an exclusive fleet of high-end vehicles. Isabella Thompson, the Marketing Manager, is spearheading the initiative to establish a strong online presence. The company envisions a complete mobile solution, CarElite, tailored to showcase their premium car collection, facilitate seamless bookings, and enhance the overall customer experience.\\n- Lead Response: Hi. As we\\'re starting out, our budget for this is $25k and we want a mobile app.')\n",
    "    ]\n",
    "]"
   ]
  },
  {
   "cell_type": "code",
   "execution_count": 27,
   "metadata": {},
   "outputs": [],
   "source": [
    "import time\n",
    "llm = ChatOpenAI(temperature=0, model_name='gpt-3.5-turbo', max_tokens=300)\n",
    "responses = []\n",
    "for i in test_prompts:\n",
    "    time.sleep(3)\n",
    "    responses.append(llm.invoke(i).content)\n",
    "    "
   ]
  },
  {
   "cell_type": "code",
   "execution_count": 28,
   "metadata": {},
   "outputs": [
    {
     "name": "stdout",
     "output_type": "stream",
     "text": [
      "Thanks for sharing the project scope, Yaqub! To get a better idea of how we can best assist you, could you share your estimated budget for this project?\n",
      "\n",
      "\n",
      "Hi Joe Steve,\n",
      "\n",
      "Thank you for sharing the project scope document with us. To better understand how we can assist you with your project, could you please provide us with an estimated budget for the implementation of the generative AI solution for your content team at Anz LLC?\n",
      "\n",
      "Looking forward to hearing from you soon.\n",
      "\n",
      "Regards,\n",
      "[Your Name]\n",
      "HR\n",
      "hr@antematter.so\n",
      "\n",
      "\n",
      "Great to hear about your project, Sophia! Your project scope and budget details are clear. I will escalate this to the admin for further assistance. You should hear from them soon. \n",
      "\n",
      "If you need any further information or have any other questions, feel free to reach out. Good luck with the AutoCode project at TechSprint Innovations!\n",
      "\n",
      "\n",
      "Great to hear about your project, Ayesha! \n",
      "\n",
      "Thanks for sharing the project scope. To get a better idea of how we can best assist you, could you share your estimated budget for this project? \n",
      "\n",
      "Looking forward to hearing from you soon!\n",
      "\n",
      "Regards,\n",
      "[Your Name]\n",
      "HR\n",
      "hr@antematter.so\n",
      "\n",
      "\n"
     ]
    }
   ],
   "source": [
    "for i in responses:\n",
    "\tprint(i)\n",
    "\tprint(\"\\n\")"
   ]
  },
  {
   "cell_type": "code",
   "execution_count": 63,
   "metadata": {},
   "outputs": [
    {
     "name": "stdout",
     "output_type": "stream",
     "text": [
      "Goal: Refine the understanding of the lead's project needs and determine the next steps.\n",
      "Based on Lead Response from `Lead Information and Response To Opener Email` section, the following scenarios can occur:\n",
      "1. Budget and Scope Provided or if they are requesting for more information:\n",
      "Action: Escalate the lead to the admin.\n",
      "Response: \"Escalated\"\n",
      "2. Missing Information (budget or scope):\n",
      "Action: Prompt the user to provide the missing details. Note: Write the response in an email format and use HR and hr@antematter.so in the Regards section of the email.\n",
      "Budget Missing: \"Thanks for sharing the project scope, [Name]! To get a better idea of how we can best assist you, could you share your estimated budget for this project?\"\n",
      "Scope Missing: \"Thanks for letting me know your budget, [Name]! To understand your needs more clearly, could you briefly describe the project scope or what you're hoping to achieve?\"\n",
      "\n",
      "\n",
      "\n",
      "Lead Information and Response To Opener Email:\n",
      "- Name: [name]\n",
      "- Job Title: [job_title]\n",
      "- Organization: [organization]\n",
      "- Company Size: [company_size]\n",
      "- Department: [department]\n",
      "- Project Title: [project_title]\n",
      "- Looking for: [looking_for]\n",
      "- Lead Response: [lead_response]\n"
     ]
    }
   ],
   "source": [
    "with open(\"escalator_prompt.md\", \"r\") as f:\n",
    "\tprompt = f.read()\n",
    "\n",
    "prompt_split = prompt.split(\"#####\")\n",
    "print(prompt_split[0], prompt_split[1], sep=\"\\n\\n\")"
   ]
  },
  {
   "cell_type": "code",
   "execution_count": null,
   "metadata": {},
   "outputs": [],
   "source": [
    "replacements = {\n",
    "\t\"name\": \"name\",\n",
    "\t\"job_title\": \"job_title\",\n",
    "\t\"organization\": \"organization\",\n",
    "\t\"company_size\": \"company_size\",\n",
    "\t\"department\": \"department\",\n",
    "\t\"project_title\": \"project_title\",\n",
    "\t\"looking_for\": \"looking_for\",\n",
    "\t\"lead_response\": \"lead_response\"\n",
    "}\n",
    "prompts = []\n",
    "\n",
    "for key, value in replacements.items():\n",
    "\ttemplate = template.replace(f\"[{key}]\", str(getattr(lead, value)))\n",
    "template_split = template.split(\"#####\")\n",
    "prompts.append(\n",
    "\t[\n",
    "\t\t(\"system\", template_split[0]),\n",
    "\t\t(\"human\", template_split[1])\n",
    "\t]\n",
    ")"
   ]
  }
 ],
 "metadata": {
  "kernelspec": {
   "display_name": "venv",
   "language": "python",
   "name": "python3"
  },
  "language_info": {
   "codemirror_mode": {
    "name": "ipython",
    "version": 3
   },
   "file_extension": ".py",
   "mimetype": "text/x-python",
   "name": "python",
   "nbconvert_exporter": "python",
   "pygments_lexer": "ipython3",
   "version": "3.11.0"
  }
 },
 "nbformat": 4,
 "nbformat_minor": 2
}
