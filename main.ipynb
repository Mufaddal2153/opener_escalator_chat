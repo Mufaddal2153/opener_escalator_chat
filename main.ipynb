{
 "cells": [
  {
   "cell_type": "markdown",
   "metadata": {},
   "source": [
    "### Driver Code"
   ]
  },
  {
   "cell_type": "code",
   "execution_count": 1,
   "metadata": {},
   "outputs": [],
   "source": [
    "import pandas as pd, os, inspect\n",
    "from langchain_openai import ChatOpenAI\n",
    "from langchain.prompts import PromptTemplate\n",
    "from main import opener, escalator\n",
    "os.environ['OPENAI_API_KEY'] = \"insert your key\""
   ]
  },
  {
   "cell_type": "markdown",
   "metadata": {},
   "source": [
    "#### Opener and Escalator parameters"
   ]
  },
  {
   "cell_type": "code",
   "execution_count": 9,
   "metadata": {},
   "outputs": [
    {
     "name": "stdout",
     "output_type": "stream",
     "text": [
      "Attribute Name and Default Value:\n",
      "prompt_path = opener_prompt.md <class 'str'>\n",
      "leads_path = leads.xlsx <class 'str'>\n",
      "opener_path = opener_output.xlsx <class 'str'>\n",
      "model_name = gpt-3.5-turbo <class 'str'>\n",
      "model_temperature = 0 <class 'float'>\n",
      "model_max_tokens = 300 <class 'int'>\n"
     ]
    }
   ],
   "source": [
    "opener_params = inspect.signature(opener)\n",
    "print(\"Attribute Name and Default Value:\")\n",
    "for i in opener_params.parameters:\n",
    "    print(i + \" = \" + str(opener_params.parameters[i].default) + \" \" + str(type(escalator_params.parameters[i].default)))"
   ]
  },
  {
   "cell_type": "code",
   "execution_count": 8,
   "metadata": {},
   "outputs": [
    {
     "name": "stdout",
     "output_type": "stream",
     "text": [
      "Attribute Name and Default Value:\n",
      "prompt_path = escalator_prompt.md <class 'str'>\n",
      "leads_path = leads.xlsx <class 'str'>\n",
      "opener_path = opener_output.xlsx <class 'str'>\n",
      "escalator_path = escalator_output.xlsx <class 'str'>\n",
      "model_name = gpt-3.5-turbo <class 'str'>\n",
      "model_temperature = 0.2 <class 'float'>\n",
      "model_max_tokens = 300 <class 'int'>\n"
     ]
    }
   ],
   "source": [
    "escalator_params = inspect.signature(escalator)\n",
    "print(\"Attribute Name and Default Value:\")\n",
    "for i in escalator_params.parameters:\n",
    "    print(i + \" = \" + str(escalator_params.parameters[i].default) + \" \" + str(type(escalator_params.parameters[i].default)))"
   ]
  },
  {
   "cell_type": "markdown",
   "metadata": {},
   "source": [
    "#### Generation"
   ]
  },
  {
   "cell_type": "code",
   "execution_count": 4,
   "metadata": {},
   "outputs": [
    {
     "name": "stdout",
     "output_type": "stream",
     "text": [
      "Loading template and leads...\n",
      "Opener Template loaded!\n",
      "Opener Leads loaded!\n",
      "Making template...\n",
      "Opener Prompts generated!\n",
      "Opener Generating emails...\n",
      "Opener Emails generated!\n",
      "Opener output saved to:  opener_output.xlsx\n"
     ]
    }
   ],
   "source": [
    "opener()"
   ]
  },
  {
   "cell_type": "code",
   "execution_count": 5,
   "metadata": {},
   "outputs": [
    {
     "name": "stdout",
     "output_type": "stream",
     "text": [
      "Escalator Loading template and leads...\n",
      "Escalator Template loaded!\n",
      "Escalator Leads loaded!\n",
      "Making template...\n",
      "Escalator Prompts generated!\n",
      "Escalator Emails generated!\n"
     ]
    }
   ],
   "source": [
    "escalator()"
   ]
  }
 ],
 "metadata": {
  "kernelspec": {
   "display_name": "venv",
   "language": "python",
   "name": "python3"
  },
  "language_info": {
   "codemirror_mode": {
    "name": "ipython",
    "version": 3
   },
   "file_extension": ".py",
   "mimetype": "text/x-python",
   "name": "python",
   "nbconvert_exporter": "python",
   "pygments_lexer": "ipython3",
   "version": "3.11.1"
  }
 },
 "nbformat": 4,
 "nbformat_minor": 2
}
