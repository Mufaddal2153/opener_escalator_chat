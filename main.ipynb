{
 "cells": [
  {
   "cell_type": "code",
   "execution_count": 1,
   "metadata": {},
   "outputs": [],
   "source": [
    "import pandas as pd"
   ]
  },
  {
   "cell_type": "code",
   "execution_count": 10,
   "metadata": {},
   "outputs": [],
   "source": [
    "data = pd.read_csv(\"leads.csv\")"
   ]
  },
  {
   "cell_type": "code",
   "execution_count": 36,
   "metadata": {},
   "outputs": [
    {
     "data": {
      "text/html": [
       "<div>\n",
       "<style scoped>\n",
       "    .dataframe tbody tr th:only-of-type {\n",
       "        vertical-align: middle;\n",
       "    }\n",
       "\n",
       "    .dataframe tbody tr th {\n",
       "        vertical-align: top;\n",
       "    }\n",
       "\n",
       "    .dataframe thead th {\n",
       "        text-align: right;\n",
       "    }\n",
       "</style>\n",
       "<table border=\"1\" class=\"dataframe\">\n",
       "  <thead>\n",
       "    <tr style=\"text-align: right;\">\n",
       "      <th>3</th>\n",
       "      <th>Name</th>\n",
       "      <th>Job Title</th>\n",
       "      <th>Organizaton</th>\n",
       "      <th>Company Size</th>\n",
       "      <th>Department</th>\n",
       "      <th>Project Title</th>\n",
       "      <th>Looking For</th>\n",
       "      <th>Lead Response</th>\n",
       "    </tr>\n",
       "  </thead>\n",
       "  <tbody>\n",
       "    <tr>\n",
       "      <th>4</th>\n",
       "      <td>Yaqub Qamar Ad Din Dibiazah</td>\n",
       "      <td>Director Engineering</td>\n",
       "      <td>Imaarat Tech</td>\n",
       "      <td>50-100</td>\n",
       "      <td>Engineering</td>\n",
       "      <td>CentDoc</td>\n",
       "      <td>In the past, the company encountered an issue ...</td>\n",
       "      <td>Thanks for reaching out. Our procurement team ...</td>\n",
       "    </tr>\n",
       "    <tr>\n",
       "      <th>5</th>\n",
       "      <td>Joe Steve</td>\n",
       "      <td>CTO</td>\n",
       "      <td>Anz LLC</td>\n",
       "      <td>25-50</td>\n",
       "      <td>Content</td>\n",
       "      <td>ConSys</td>\n",
       "      <td>Anz LLC is a company that creates SEO-enabled ...</td>\n",
       "      <td>Thank you for contacting us. Please find the a...</td>\n",
       "    </tr>\n",
       "    <tr>\n",
       "      <th>6</th>\n",
       "      <td>Sophia Rodriguez</td>\n",
       "      <td>Lead Developer</td>\n",
       "      <td>TechSprint Innovations</td>\n",
       "      <td>250-400</td>\n",
       "      <td>Engineering</td>\n",
       "      <td>AutoCode</td>\n",
       "      <td>TechSprint Innovations is focused on automatin...</td>\n",
       "      <td>For the scope of this project, we require a so...</td>\n",
       "    </tr>\n",
       "    <tr>\n",
       "      <th>7</th>\n",
       "      <td>Ayesha Raza</td>\n",
       "      <td>Marketing Manager</td>\n",
       "      <td>LuxeDrive Rentals</td>\n",
       "      <td>7</td>\n",
       "      <td>-</td>\n",
       "      <td>CarElite</td>\n",
       "      <td>LuxeDrive Rentals specializes in providing lux...</td>\n",
       "      <td>Hi. As we're starting out, our budget for this...</td>\n",
       "    </tr>\n",
       "  </tbody>\n",
       "</table>\n",
       "</div>"
      ],
      "text/plain": [
       "3                         Name             Job Title             Organizaton  \\\n",
       "4  Yaqub Qamar Ad Din Dibiazah  Director Engineering            Imaarat Tech   \n",
       "5                    Joe Steve                   CTO                 Anz LLC   \n",
       "6             Sophia Rodriguez        Lead Developer  TechSprint Innovations   \n",
       "7                  Ayesha Raza     Marketing Manager       LuxeDrive Rentals   \n",
       "\n",
       "3 Company Size   Department Project Title  \\\n",
       "4       50-100  Engineering       CentDoc   \n",
       "5        25-50      Content        ConSys   \n",
       "6      250-400  Engineering      AutoCode   \n",
       "7            7           -       CarElite   \n",
       "\n",
       "3                                        Looking For  \\\n",
       "4  In the past, the company encountered an issue ...   \n",
       "5  Anz LLC is a company that creates SEO-enabled ...   \n",
       "6  TechSprint Innovations is focused on automatin...   \n",
       "7  LuxeDrive Rentals specializes in providing lux...   \n",
       "\n",
       "3                                      Lead Response  \n",
       "4  Thanks for reaching out. Our procurement team ...  \n",
       "5  Thank you for contacting us. Please find the a...  \n",
       "6  For the scope of this project, we require a so...  \n",
       "7  Hi. As we're starting out, our budget for this...  "
      ]
     },
     "execution_count": 36,
     "metadata": {},
     "output_type": "execute_result"
    }
   ],
   "source": [
    "def read_excel_dynamic(filepath):\n",
    "\tdf = pd.read_excel(filepath)\n",
    " \n",
    "\tnon_empty_row = next((i for i, row in df.iterrows() if not row.isnull().all()), None)\n",
    "\tif non_empty_row is not None:\n",
    "\t\tdf.columns = df.iloc[non_empty_row]\n",
    "\t\tdf = df.iloc[non_empty_row+1:]\n",
    "\t\tnon_empty_col = df.notna().any(axis=0)\n",
    "\t\tdf = df.loc[:, non_empty_col]\n",
    "\telse:\n",
    "\t\tprint(\"Excel file seems to be empty!\")\n",
    "\t\tdf = pd.DataFrame()\n",
    "\treturn df\n",
    "\n",
    "filepath = 'leads.xlsx'\n",
    "df = read_excel_dynamic(filepath)\n",
    "df.head(n=15)\n"
   ]
  },
  {
   "cell_type": "code",
   "execution_count": null,
   "metadata": {},
   "outputs": [],
   "source": []
  }
 ],
 "metadata": {
  "kernelspec": {
   "display_name": "venv",
   "language": "python",
   "name": "python3"
  },
  "language_info": {
   "codemirror_mode": {
    "name": "ipython",
    "version": 3
   },
   "file_extension": ".py",
   "mimetype": "text/x-python",
   "name": "python",
   "nbconvert_exporter": "python",
   "pygments_lexer": "ipython3",
   "version": "3.11.0"
  }
 },
 "nbformat": 4,
 "nbformat_minor": 2
}
