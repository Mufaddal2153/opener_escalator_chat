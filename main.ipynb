{
 "cells": [
  {
   "cell_type": "code",
   "execution_count": 1,
   "metadata": {},
   "outputs": [],
   "source": [
    "import pandas as pd, os\n",
    "from langchain_openai import ChatOpenAI\n",
    "from langchain.prompts import PromptTemplate\n",
    "os.environ[\"OPENAI_API_KEY\"] = \"sk-proj-xB60QtrmOIfhzFCw3d3kT3BlbkFJ1Gt6KTjwRaPJlvi56USa\""
   ]
  },
  {
   "cell_type": "code",
   "execution_count": 10,
   "metadata": {},
   "outputs": [],
   "source": [
    "data = pd.read_csv(\"leads.csv\")"
   ]
  },
  {
   "cell_type": "code",
   "execution_count": 36,
   "metadata": {},
   "outputs": [
    {
     "data": {
      "text/html": [
       "<div>\n",
       "<style scoped>\n",
       "    .dataframe tbody tr th:only-of-type {\n",
       "        vertical-align: middle;\n",
       "    }\n",
       "\n",
       "    .dataframe tbody tr th {\n",
       "        vertical-align: top;\n",
       "    }\n",
       "\n",
       "    .dataframe thead th {\n",
       "        text-align: right;\n",
       "    }\n",
       "</style>\n",
       "<table border=\"1\" class=\"dataframe\">\n",
       "  <thead>\n",
       "    <tr style=\"text-align: right;\">\n",
       "      <th>3</th>\n",
       "      <th>Name</th>\n",
       "      <th>Job Title</th>\n",
       "      <th>Organizaton</th>\n",
       "      <th>Company Size</th>\n",
       "      <th>Department</th>\n",
       "      <th>Project Title</th>\n",
       "      <th>Looking For</th>\n",
       "      <th>Lead Response</th>\n",
       "    </tr>\n",
       "  </thead>\n",
       "  <tbody>\n",
       "    <tr>\n",
       "      <th>4</th>\n",
       "      <td>Yaqub Qamar Ad Din Dibiazah</td>\n",
       "      <td>Director Engineering</td>\n",
       "      <td>Imaarat Tech</td>\n",
       "      <td>50-100</td>\n",
       "      <td>Engineering</td>\n",
       "      <td>CentDoc</td>\n",
       "      <td>In the past, the company encountered an issue ...</td>\n",
       "      <td>Thanks for reaching out. Our procurement team ...</td>\n",
       "    </tr>\n",
       "    <tr>\n",
       "      <th>5</th>\n",
       "      <td>Joe Steve</td>\n",
       "      <td>CTO</td>\n",
       "      <td>Anz LLC</td>\n",
       "      <td>25-50</td>\n",
       "      <td>Content</td>\n",
       "      <td>ConSys</td>\n",
       "      <td>Anz LLC is a company that creates SEO-enabled ...</td>\n",
       "      <td>Thank you for contacting us. Please find the a...</td>\n",
       "    </tr>\n",
       "    <tr>\n",
       "      <th>6</th>\n",
       "      <td>Sophia Rodriguez</td>\n",
       "      <td>Lead Developer</td>\n",
       "      <td>TechSprint Innovations</td>\n",
       "      <td>250-400</td>\n",
       "      <td>Engineering</td>\n",
       "      <td>AutoCode</td>\n",
       "      <td>TechSprint Innovations is focused on automatin...</td>\n",
       "      <td>For the scope of this project, we require a so...</td>\n",
       "    </tr>\n",
       "    <tr>\n",
       "      <th>7</th>\n",
       "      <td>Ayesha Raza</td>\n",
       "      <td>Marketing Manager</td>\n",
       "      <td>LuxeDrive Rentals</td>\n",
       "      <td>7</td>\n",
       "      <td>-</td>\n",
       "      <td>CarElite</td>\n",
       "      <td>LuxeDrive Rentals specializes in providing lux...</td>\n",
       "      <td>Hi. As we're starting out, our budget for this...</td>\n",
       "    </tr>\n",
       "  </tbody>\n",
       "</table>\n",
       "</div>"
      ],
      "text/plain": [
       "3                         Name             Job Title             Organizaton  \\\n",
       "4  Yaqub Qamar Ad Din Dibiazah  Director Engineering            Imaarat Tech   \n",
       "5                    Joe Steve                   CTO                 Anz LLC   \n",
       "6             Sophia Rodriguez        Lead Developer  TechSprint Innovations   \n",
       "7                  Ayesha Raza     Marketing Manager       LuxeDrive Rentals   \n",
       "\n",
       "3 Company Size   Department Project Title  \\\n",
       "4       50-100  Engineering       CentDoc   \n",
       "5        25-50      Content        ConSys   \n",
       "6      250-400  Engineering      AutoCode   \n",
       "7            7           -       CarElite   \n",
       "\n",
       "3                                        Looking For  \\\n",
       "4  In the past, the company encountered an issue ...   \n",
       "5  Anz LLC is a company that creates SEO-enabled ...   \n",
       "6  TechSprint Innovations is focused on automatin...   \n",
       "7  LuxeDrive Rentals specializes in providing lux...   \n",
       "\n",
       "3                                      Lead Response  \n",
       "4  Thanks for reaching out. Our procurement team ...  \n",
       "5  Thank you for contacting us. Please find the a...  \n",
       "6  For the scope of this project, we require a so...  \n",
       "7  Hi. As we're starting out, our budget for this...  "
      ]
     },
     "execution_count": 36,
     "metadata": {},
     "output_type": "execute_result"
    }
   ],
   "source": [
    "def read_excel_dynamic(filepath):\n",
    "\tdf = pd.read_excel(filepath)\n",
    " \n",
    "\tnon_empty_row = next((i for i, row in df.iterrows() if not row.isnull().all()), None)\n",
    "\tif non_empty_row is not None:\n",
    "\t\tdf.columns = df.iloc[non_empty_row]\n",
    "\t\tdf = df.iloc[non_empty_row+1:]\n",
    "\t\tnon_empty_col = df.notna().any(axis=0)\n",
    "\t\tdf = df.loc[:, non_empty_col]\n",
    "\telse:\n",
    "\t\tprint(\"Excel file seems to be empty!\")\n",
    "\t\tdf = pd.DataFrame()\n",
    "\treturn df\n",
    "\n",
    "filepath = 'leads.xlsx'\n",
    "df = read_excel_dynamic(filepath)\n",
    "df.head(n=15)\n"
   ]
  },
  {
   "cell_type": "code",
   "execution_count": null,
   "metadata": {},
   "outputs": [],
   "source": [
    "['Goal: Craft an email to send to a potential lead. This email should be concise, informative, and engaging. The tone of the email should be human like. It should inquire more details about the scope and budget of project they have in mind. The email should have a brief subject that\\'s less than 30 characters. The email body shouldnt \n",
    "be longer than 3 paragraphs. The email should not use any flowery or flattery language.\\n\\nUse the below provided information to craft the email.\\nInformation about the lead:\\n- Name: Yaqub Qamar Ad Din Dibiazah\\n- Job Title: Director Engineering\\n- Organization: Imaarat Tech\\n- Company Size: 50-100\\n- Department: Engineering\\n- Project Title: CentDoc\\n- Looking for: In the past, the company encountered an issue where their product manuals became out of sync with the software documentation. As the development teams continued to add new features and refine existing ones, they also updated the documentation. However, this required manual synchronization between the \n",
    "product manuals and the software documentation.\\n\\nTo address this problem, the company has envisioned a solution called \"CentDoc\". This tool will automatically detect any inconsistencies between the product manuals and software documentation. It will then remove outdated information from the manuals using the software documentation, \n",
    "but only after receiving explicit approval from the user.', \"Goal: Craft an email to send to a potential lead. This email should be concise, informative, and engaging. The tone of the email should be human like. It should inquire more details about the scope and budget of project they have in mind. The email should have a brief subject that's less than 30 characters. The email body shouldnt be longer than 3 paragraphs. The email should not use \n",
    "any flowery or flattery language.\\n\\nUse the below provided information to craft the email.\\nInformation about the lead:\\n- Name: Joe Steve\\n- Job Title: CTO\\n- Organization: Anz LLC\\n- Company Size: 25-50\\n- Department: Content\\n- Project Title: ConSys\\n- Looking for: Anz LLC is a company that creates SEO-enabled internet content for small businesses. They have a team of 20 members who write content for various products offered by different businesses. The team now plans to utilize generative AI to expedite the writing process, which will facilitate scaling for them.\", \"Goal: Craft an email to send to a potential lead. This email should be concise, informative, and engaging. The tone of the email should be human like. It should inquire more details about the scope and budget of project they have in mind. The email should have a brief subject that's less than 30 characters. The email body shouldnt be longer than 3 paragraphs. The email should not use any flowery or flattery language.\\n\\nUse the below provided information to craft the email.\\nInformation about the lead:\\n- Name: Sophia Rodriguez\\n- Job Title: Lead Developer\\n- Organization: TechSprint Innovations\\n- Company Size: 250-400\\n- Department: Engineering\\n- Project Title: AutoCode\\n- Looking for: TechSprint Innovations is focused on automating the coding process to enhance development speed and accuracy. As the Lead Developer, Sophia Rodriguez spearheads the implementation \n",
    "of AutoCode, an innovative tool designed to automatically generate code snippets based on predefined patterns. This aims to streamline the coding workflow and boost overall development efficiency.\", \"Goal: Craft an email to \n",
    "send to a potential lead. This email should be concise, informative, and engaging. The tone of the email should \n",
    "be human like. It should inquire more details about the scope and budget of project they have in mind. The email should have a brief subject that's less than 30 characters. The email body shouldnt be longer than 3 paragraphs. The email should not use any flowery or flattery language.\\n\\nUse the below provided information to craft the \n",
    "email.\\nInformation about the lead:\\n- Name: Ayesha Raza\\n- Job Title: Marketing Manager\\n- Organization: LuxeDrive Rentals\\n- Company Size: 7\\n- Department: - \\n- Project Title: CarElite\\n- Looking for: LuxeDrive Rentals specializes in providing luxury car rental services, offering an exclusive fleet of high-end vehicles. Isabella Thompson, the Marketing Manager, is spearheading the initiative to establish a strong online presence. The company envisions a complete mobile solution, CarElite, tailored to showcase their premium car collection, facilitate seamless bookings, and enhance the overall customer experience.\"]"
   ]
  },
  {
   "cell_type": "code",
   "execution_count": 11,
   "metadata": {},
   "outputs": [],
   "source": [
    "prompt = \"\"\"Goal: Craft an email to send to a potential lead. This email should be concise, informative, and engaging. The tone of the email should be human like. It should inquire more details about the scope and budget of project they have in mind. The email should have a brief subject that\\'s less than 30 characters. Use HR and hr@antematter.so in Regards section of the email. The email body shouldnt \n",
    "be longer than 3 paragraphs. The email should not use any flowery or flattery language.\\n\\nUse the below provided information to craft the email.\\nInformation about the lead:\\n- Name: Yaqub Qamar Ad Din Dibiazah\\n- Job Title: Director Engineering\\n- Organization: Imaarat Tech\\n- Company Size: 50-100\\n- Department: Engineering\\n- Project Title: CentDoc\\n- Looking for: In the past, the company encountered an issue where their product manuals became out of sync with the software documentation. As the development teams continued to add new features and refine existing ones, they also updated the documentation. However, this required manual synchronization between the \n",
    "product manuals and the software documentation.\\n\\nTo address this problem, the company has envisioned a solution called \"CentDoc\". This tool will automatically detect any inconsistencies between the product manuals and software documentation. It will then remove outdated information from the manuals using the software documentation, \n",
    "but only after receiving explicit approval from the user.\"\"\""
   ]
  },
  {
   "cell_type": "code",
   "execution_count": 14,
   "metadata": {},
   "outputs": [],
   "source": [
    "llm = ChatOpenAI(temperature=0.2, model_name='gpt-3.5-turbo', max_tokens=300)"
   ]
  },
  {
   "cell_type": "code",
   "execution_count": 19,
   "metadata": {},
   "outputs": [
    {
     "ename": "ValueError",
     "evalue": "Invalid input type <class 'langchain_core.prompts.prompt.PromptTemplate'>. Must be a PromptValue, str, or list of BaseMessages.",
     "output_type": "error",
     "traceback": [
      "\u001b[1;31m---------------------------------------------------------------------------\u001b[0m",
      "\u001b[1;31mValueError\u001b[0m                                Traceback (most recent call last)",
      "Cell \u001b[1;32mIn[19], line 5\u001b[0m\n\u001b[0;32m      1\u001b[0m messages \u001b[38;5;241m=\u001b[39m [\n\u001b[0;32m      2\u001b[0m     (\u001b[38;5;124m\"\u001b[39m\u001b[38;5;124msystem\u001b[39m\u001b[38;5;124m\"\u001b[39m, prompt)\n\u001b[0;32m      3\u001b[0m ]\n\u001b[0;32m      4\u001b[0m prompt \u001b[38;5;241m=\u001b[39m PromptTemplate(template\u001b[38;5;241m=\u001b[39mprompt, input_variables\u001b[38;5;241m=\u001b[39m[])\n\u001b[1;32m----> 5\u001b[0m ret \u001b[38;5;241m=\u001b[39m \u001b[43mllm\u001b[49m\u001b[38;5;241;43m.\u001b[39;49m\u001b[43minvoke\u001b[49m\u001b[43m(\u001b[49m\u001b[43mprompt\u001b[49m\u001b[43m)\u001b[49m\n",
      "File \u001b[1;32mf:\\projects\\opener_escalator_chat\\venv\\Lib\\site-packages\\langchain_core\\language_models\\chat_models.py:159\u001b[0m, in \u001b[0;36mBaseChatModel.invoke\u001b[1;34m(self, input, config, stop, **kwargs)\u001b[0m\n\u001b[0;32m    147\u001b[0m \u001b[38;5;28;01mdef\u001b[39;00m \u001b[38;5;21minvoke\u001b[39m(\n\u001b[0;32m    148\u001b[0m     \u001b[38;5;28mself\u001b[39m,\n\u001b[0;32m    149\u001b[0m     \u001b[38;5;28minput\u001b[39m: LanguageModelInput,\n\u001b[1;32m   (...)\u001b[0m\n\u001b[0;32m    153\u001b[0m     \u001b[38;5;241m*\u001b[39m\u001b[38;5;241m*\u001b[39mkwargs: Any,\n\u001b[0;32m    154\u001b[0m ) \u001b[38;5;241m-\u001b[39m\u001b[38;5;241m>\u001b[39m BaseMessage:\n\u001b[0;32m    155\u001b[0m     config \u001b[38;5;241m=\u001b[39m ensure_config(config)\n\u001b[0;32m    156\u001b[0m     \u001b[38;5;28;01mreturn\u001b[39;00m cast(\n\u001b[0;32m    157\u001b[0m         ChatGeneration,\n\u001b[0;32m    158\u001b[0m         \u001b[38;5;28mself\u001b[39m\u001b[38;5;241m.\u001b[39mgenerate_prompt(\n\u001b[1;32m--> 159\u001b[0m             [\u001b[38;5;28;43mself\u001b[39;49m\u001b[38;5;241;43m.\u001b[39;49m\u001b[43m_convert_input\u001b[49m\u001b[43m(\u001b[49m\u001b[38;5;28;43minput\u001b[39;49m\u001b[43m)\u001b[49m],\n\u001b[0;32m    160\u001b[0m             stop\u001b[38;5;241m=\u001b[39mstop,\n\u001b[0;32m    161\u001b[0m             callbacks\u001b[38;5;241m=\u001b[39mconfig\u001b[38;5;241m.\u001b[39mget(\u001b[38;5;124m\"\u001b[39m\u001b[38;5;124mcallbacks\u001b[39m\u001b[38;5;124m\"\u001b[39m),\n\u001b[0;32m    162\u001b[0m             tags\u001b[38;5;241m=\u001b[39mconfig\u001b[38;5;241m.\u001b[39mget(\u001b[38;5;124m\"\u001b[39m\u001b[38;5;124mtags\u001b[39m\u001b[38;5;124m\"\u001b[39m),\n\u001b[0;32m    163\u001b[0m             metadata\u001b[38;5;241m=\u001b[39mconfig\u001b[38;5;241m.\u001b[39mget(\u001b[38;5;124m\"\u001b[39m\u001b[38;5;124mmetadata\u001b[39m\u001b[38;5;124m\"\u001b[39m),\n\u001b[0;32m    164\u001b[0m             run_name\u001b[38;5;241m=\u001b[39mconfig\u001b[38;5;241m.\u001b[39mget(\u001b[38;5;124m\"\u001b[39m\u001b[38;5;124mrun_name\u001b[39m\u001b[38;5;124m\"\u001b[39m),\n\u001b[0;32m    165\u001b[0m             run_id\u001b[38;5;241m=\u001b[39mconfig\u001b[38;5;241m.\u001b[39mpop(\u001b[38;5;124m\"\u001b[39m\u001b[38;5;124mrun_id\u001b[39m\u001b[38;5;124m\"\u001b[39m, \u001b[38;5;28;01mNone\u001b[39;00m),\n\u001b[0;32m    166\u001b[0m             \u001b[38;5;241m*\u001b[39m\u001b[38;5;241m*\u001b[39mkwargs,\n\u001b[0;32m    167\u001b[0m         )\u001b[38;5;241m.\u001b[39mgenerations[\u001b[38;5;241m0\u001b[39m][\u001b[38;5;241m0\u001b[39m],\n\u001b[0;32m    168\u001b[0m     )\u001b[38;5;241m.\u001b[39mmessage\n",
      "File \u001b[1;32mf:\\projects\\opener_escalator_chat\\venv\\Lib\\site-packages\\langchain_core\\language_models\\chat_models.py:142\u001b[0m, in \u001b[0;36mBaseChatModel._convert_input\u001b[1;34m(self, input)\u001b[0m\n\u001b[0;32m    140\u001b[0m     \u001b[38;5;28;01mreturn\u001b[39;00m ChatPromptValue(messages\u001b[38;5;241m=\u001b[39mconvert_to_messages(\u001b[38;5;28minput\u001b[39m))\n\u001b[0;32m    141\u001b[0m \u001b[38;5;28;01melse\u001b[39;00m:\n\u001b[1;32m--> 142\u001b[0m     \u001b[38;5;28;01mraise\u001b[39;00m \u001b[38;5;167;01mValueError\u001b[39;00m(\n\u001b[0;32m    143\u001b[0m         \u001b[38;5;124mf\u001b[39m\u001b[38;5;124m\"\u001b[39m\u001b[38;5;124mInvalid input type \u001b[39m\u001b[38;5;132;01m{\u001b[39;00m\u001b[38;5;28mtype\u001b[39m(\u001b[38;5;28minput\u001b[39m)\u001b[38;5;132;01m}\u001b[39;00m\u001b[38;5;124m. \u001b[39m\u001b[38;5;124m\"\u001b[39m\n\u001b[0;32m    144\u001b[0m         \u001b[38;5;124m\"\u001b[39m\u001b[38;5;124mMust be a PromptValue, str, or list of BaseMessages.\u001b[39m\u001b[38;5;124m\"\u001b[39m\n\u001b[0;32m    145\u001b[0m     )\n",
      "\u001b[1;31mValueError\u001b[0m: Invalid input type <class 'langchain_core.prompts.prompt.PromptTemplate'>. Must be a PromptValue, str, or list of BaseMessages."
     ]
    }
   ],
   "source": [
    "messages = [\n",
    "    (\"system\", prompt)\n",
    "]\n",
    "ret = llm.invoke(prompt)"
   ]
  },
  {
   "cell_type": "code",
   "execution_count": 16,
   "metadata": {},
   "outputs": [
    {
     "name": "stdout",
     "output_type": "stream",
     "text": [
      "Subject: Inquiry about CentDoc Project Scope\n",
      "\n",
      "Dear Yaqub Qamar Ad Din Dibiazah,\n",
      "\n",
      "I hope this email finds you well. I am reaching out from Antematter, and I came across your project \"CentDoc\" at Imaarat Tech. The concept of CentDoc sounds intriguing and promising in streamlining the synchronization process between product manuals and software documentation.\n",
      "\n",
      "I would love to learn more about the scope and budget you have in mind for the CentDoc project. Understanding your requirements better will enable us to tailor our solutions to meet your specific needs effectively. Could you kindly provide more details on the envisioned functionalities and timeline for CentDoc?\n",
      "\n",
      "Looking forward to the opportunity to collaborate with you on this innovative project.\n",
      "\n",
      "Warm regards,\n",
      "\n",
      "HR\n",
      "Antematter\n",
      "hr@antematter.so\n"
     ]
    }
   ],
   "source": [
    "print(ret.content)"
   ]
  },
  {
   "cell_type": "code",
   "execution_count": null,
   "metadata": {},
   "outputs": [],
   "source": []
  }
 ],
 "metadata": {
  "kernelspec": {
   "display_name": "venv",
   "language": "python",
   "name": "python3"
  },
  "language_info": {
   "codemirror_mode": {
    "name": "ipython",
    "version": 3
   },
   "file_extension": ".py",
   "mimetype": "text/x-python",
   "name": "python",
   "nbconvert_exporter": "python",
   "pygments_lexer": "ipython3",
   "version": "3.11.1"
  }
 },
 "nbformat": 4,
 "nbformat_minor": 2
}
